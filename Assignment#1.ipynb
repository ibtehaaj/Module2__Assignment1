{
 "cells": [
  {
   "cell_type": "markdown",
   "metadata": {},
   "source": [
    "# Assignment#1 ( importing images to numpy array... )"
   ]
  },
  {
   "cell_type": "code",
   "execution_count": 81,
   "metadata": {},
   "outputs": [],
   "source": [
    "import os\n",
    "import numpy as np\n",
    "from PIL import Image\n"
   ]
  },
  {
   "cell_type": "code",
   "execution_count": 82,
   "metadata": {},
   "outputs": [],
   "source": [
    "#function for importing, resizing, converting and loading images to numpy array.\n",
    "def import_convert_load(path,rootDir):\n",
    "    try:\n",
    "        list_of_arrays = []\n",
    "        for dirName, subdirList, fileList in os.walk(rootDir):\n",
    "            for fname in fileList:\n",
    "                img = Image.open(path + fname)\n",
    "                new_img = img.resize((200,200))\n",
    "                #new_img.save(path + fname,'jpeg')\n",
    "                img_arr = np.array(new_img)\n",
    "                list_of_arrays.append(img_arr)\n",
    "        array_of_arrays = np.array(list_of_arrays)\n",
    "        print(\"---Images resized and loaded successfully---\")\n",
    "        return array_of_arrays\n",
    "    except:\n",
    "        print(\"Sorry! Something went wrong.\")"
   ]
  },
  {
   "cell_type": "code",
   "execution_count": 86,
   "metadata": {},
   "outputs": [
    {
     "name": "stdout",
     "output_type": "stream",
     "text": [
      "---Images resized and loaded successfully---\n"
     ]
    }
   ],
   "source": [
    "path = 'Photos/'\n",
    "rootDir = 'Photos'\n",
    "\n",
    "#calling function to perform the specified tasks\n",
    "arr = import_convert_load(path,rootDir)\n"
   ]
  },
  {
   "cell_type": "code",
   "execution_count": 87,
   "metadata": {},
   "outputs": [
    {
     "name": "stdout",
     "output_type": "stream",
     "text": [
      "Shape: (20, 200, 200, 3) \n",
      "Dimensions: 4 \n",
      "Size: 2400000\n"
     ]
    }
   ],
   "source": [
    "print('Shape:', arr.shape,\n",
    "      '\\nDimensions:', arr.ndim,\n",
    "      '\\nSize:', arr.size\n",
    ")\n",
    "\n",
    "    "
   ]
  }
 ],
 "metadata": {
  "kernelspec": {
   "display_name": "Python 3",
   "language": "python",
   "name": "python3"
  },
  "language_info": {
   "codemirror_mode": {
    "name": "ipython",
    "version": 3
   },
   "file_extension": ".py",
   "mimetype": "text/x-python",
   "name": "python",
   "nbconvert_exporter": "python",
   "pygments_lexer": "ipython3",
   "version": "3.7.3"
  }
 },
 "nbformat": 4,
 "nbformat_minor": 2
}
